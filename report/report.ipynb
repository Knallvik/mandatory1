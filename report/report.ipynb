{
 "cells": [
  {
   "cell_type": "markdown",
   "id": "94d13819-9d4d-4ecb-8697-ca4fd275e5c6",
   "metadata": {},
   "source": [
    "# Mandatory assignment 1\n",
    "### MAT-MEK9270, Daniel Kalvik"
   ]
  },
  {
   "cell_type": "code",
   "execution_count": null,
   "id": "68047d28-a218-4213-a118-df3ad85e3896",
   "metadata": {},
   "outputs": [],
   "source": []
  }
 ],
 "metadata": {
  "kernelspec": {
   "display_name": "Python (mat-mek)",
   "language": "python",
   "name": "mat-mek"
  },
  "language_info": {
   "codemirror_mode": {
    "name": "ipython",
    "version": 3
   },
   "file_extension": ".py",
   "mimetype": "text/x-python",
   "name": "python",
   "nbconvert_exporter": "python",
   "pygments_lexer": "ipython3",
   "version": "3.12.4"
  }
 },
 "nbformat": 4,
 "nbformat_minor": 5
}
