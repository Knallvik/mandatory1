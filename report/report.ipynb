{
 "cells": [
  {
   "cell_type": "markdown",
   "id": "94d13819-9d4d-4ecb-8697-ca4fd275e5c6",
   "metadata": {},
   "source": [
    "# Mandatory assignment 1\n",
    "### MAT-MEK9270, Daniel Kalvik\n",
    "#### Autumn 2024"
   ]
  },
  {
   "cell_type": "markdown",
   "id": "07b1bb42-10a4-4dc2-9b0c-86aab73795bc",
   "metadata": {},
   "source": [
    "## Problem 1.2.3\n",
    "\n",
    "To see that the proposed solution\n",
    "$$ \n",
    "u(x,y,t) = e^{i(k_xx+k_yy-\\omega t)}\n",
    "$$\n",
    "solves the wave equation\n",
    "$$ \n",
    "\\frac{\\partial^2}{\\partial t^2}u = c^2\\nabla^2u,\n",
    "$$\n",
    "we simply insert $u$ into the wave equation. We then get\n",
    "$$ \n",
    "-\\omega^2u = c^2(k_x^2+k_y^2)u.\n",
    "$$\n",
    "So as long as our frequency, $\\omega$, satisfies the dispersion relation $\\omega = |\\vec{k}|c$,\n",
    "where $\\vec{k}$ is the wave vector $(k_x,k_y)^T$,\n",
    "then $u$ is a solution to the wave equation."
   ]
  },
  {
   "cell_type": "markdown",
   "id": "d323d9e9-327a-4b6a-9441-57c95ac17f9d",
   "metadata": {},
   "source": [
    "## Problem 1.2.4\n",
    "To show that we get $\\omega = \\tilde{\\omega}$ for the appropriate choice of the CFL-number, $C=\\frac{c\\Delta t}{h}$, we start with our discretized solution\n",
    "$u_{ij}^n = e^{\\tilde{i} (kh(i+j)-\\tilde{\\omega} n \\Delta t)}$,\n",
    "where $\\tilde{i}$ is the imaginary unit, and $\\tilde{\\omega}$ is the numerical dispersion coefficient.\n",
    "Inserting this equation into a discretized version of the wave equation we get\n",
    "$$\n",
    "\\frac{A^{n+1} - 2A^{n} + A^{n-1}}{\\Delta t^2}u_{ij} = \\frac{c^2}{h^2}\\left(u_{i+1j} -2u_{ij} +u_{i-1j} + u_{ij+1} -2u_{ij} +u_{ij-1}\\right),\n",
    "$$\n",
    "since the step_size is equal in x and y, and since the wave number is the same in the x and y directions.\n",
    "$A^n = e^{-\\tilde{i}\\tilde{\\omega}n\\Delta t}$ and $u_{ij} = e^{\\tilde{i}kh(i+j)}$.\n",
    "Since the functions $A$ and $u$ are exponentials, we know that $A^{n+a}=A^nA^a$ and the same applies for $u$.\n",
    "With this we can factorize out the similiar axpressions on each side to get\n",
    "$$\n",
    "u_{ij}A^n\\left(A-2-A^{-1}\\right) = C^2 A^n u_{ij} 2 \\left(u - 2 + u^{-1}\\right).\n",
    "$$\n",
    "Dividing each side by the equal terms gives\n",
    "$$\n",
    "A + A^{-1} = 2C^2\\left(u + u^{-1}-2\\right)+2\n",
    "$$\n",
    "If we now set $C=\\frac{1}{\\sqrt{2}}$ we get\n",
    "$$\n",
    "A+A^{-1} = u + u^{-1} -2 +2,\n",
    "$$\n",
    "which means\n",
    "$$\n",
    "\\text{cos}(\\tilde{\\omega}\\Delta t) = \\text{cos}(kh)\n",
    "$$\n",
    "which means $\\tilde{\\omega}\\Delta t=kh$.\n",
    "Replacing h gives\n",
    "$$\n",
    "\\tilde{\\omega}\\Delta t = k\\frac{c\\Delta t}{C}\n",
    "$$\n",
    "and since $|\\vec{k}|c=\\omega$ is the exact dispersion coefficient and $|\\vec{k}| =\\sqrt{k_x^2+k_y^2} = \\sqrt{2}k$, we get that the numerical dispersion coefficient is exactly equal to the exact one:\n",
    "$$\n",
    "\\tilde{\\omega} = \\omega\n",
    "$$"
   ]
  },
  {
   "cell_type": "markdown",
   "id": "d1358653-aeb6-4b91-b1dc-412aba7e44cb",
   "metadata": {},
   "source": []
  }
 ],
 "metadata": {
  "kernelspec": {
   "display_name": "Python (mat-mek)",
   "language": "python",
   "name": "mat-mek"
  },
  "language_info": {
   "codemirror_mode": {
    "name": "ipython",
    "version": 3
   },
   "file_extension": ".py",
   "mimetype": "text/x-python",
   "name": "python",
   "nbconvert_exporter": "python",
   "pygments_lexer": "ipython3",
   "version": "3.12.4"
  }
 },
 "nbformat": 4,
 "nbformat_minor": 5
}
